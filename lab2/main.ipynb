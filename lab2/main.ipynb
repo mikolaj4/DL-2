{
 "cells": [
  {
   "cell_type": "code",
   "execution_count": 22,
   "metadata": {},
   "outputs": [],
   "source": [
    "import pandas as pd\n",
    "import numpy as np\n",
    "import torch\n",
    "import torch.nn as nn\n",
    "import torch.optim as optim\n",
    "from gensim.models import KeyedVectors\n",
    "from sklearn.model_selection import train_test_split\n",
    "from sklearn.metrics import accuracy_score\n",
    "from tqdm import tqdm\n",
    "import re"
   ]
  },
  {
   "cell_type": "code",
   "execution_count": null,
   "metadata": {},
   "outputs": [],
   "source": [
    "WORD2VEC_PATH = \"./word2vec/word2vec_100_3_polish.bin\"\n",
    "#nie ma tego pliku na gicie bo jest za duży i nie chciał przejść\n",
    "TRAIN_DATA_PATH = \"./sport-text-classification-ball-isi-public/train/train.tsv\"\n",
    "EMBEDDING_DIM = 100"
   ]
  },
  {
   "cell_type": "code",
   "execution_count": 24,
   "metadata": {},
   "outputs": [],
   "source": [
    "df = pd.read_csv(TRAIN_DATA_PATH, sep=\"\\t\", header=None, names=[\"label\", \"text\"])\n",
    "texts = df[\"text\"].astype(str).tolist()\n",
    "labels = df[\"label\"].astype(int).tolist()\n",
    "# labels:\n",
    "# 1 - piłka\n",
    "# 0 - nie piłka\n"
   ]
  },
  {
   "cell_type": "code",
   "execution_count": 25,
   "metadata": {},
   "outputs": [
    {
     "name": "stdout",
     "output_type": "stream",
     "text": [
      "Mindaugas Budzinauskas wierzy w odbudowę formy Kevina Johnsona. Czy ktoś opuści Polpharmę? Mindaugas Budzinauskas w rozmowie z WP SportoweFakty opowiada o transferze Kevina Johnsona, ewentualnych odejściach z Polpharmy i kolejnym meczu PLK z Anwilem. - Potrzebowaliśmy takiego gracza, jak Johnson - podkreśla szkoleniowiec starogardzian.\n",
      "1\n"
     ]
    }
   ],
   "source": [
    "print(df[\"text\"][0])\n",
    "print(df[\"label\"][0])"
   ]
  },
  {
   "cell_type": "code",
   "execution_count": 26,
   "metadata": {},
   "outputs": [],
   "source": [
    "word2vec = KeyedVectors.load(WORD2VEC_PATH)"
   ]
  },
  {
   "cell_type": "code",
   "execution_count": 27,
   "metadata": {},
   "outputs": [],
   "source": [
    "def preprocess(text):\n",
    "    text = text.lower()\n",
    "    text = re.sub(r\"[^a-ząćęłńóśźż ]\", \"\", text)\n",
    "    return text.split()\n",
    "\n",
    "def document_vector(doc):\n",
    "    words = preprocess(doc)\n",
    "    vectors = [word2vec[word] for word in words if word in word2vec]\n",
    "    if len(vectors) == 0:\n",
    "        return np.zeros(EMBEDDING_DIM)\n",
    "    return np.mean(vectors, axis=0)"
   ]
  },
  {
   "cell_type": "code",
   "execution_count": 28,
   "metadata": {},
   "outputs": [
    {
     "name": "stderr",
     "output_type": "stream",
     "text": [
      "100%|██████████| 98132/98132 [00:07<00:00, 12585.47it/s]\n"
     ]
    }
   ],
   "source": [
    "X = np.array([document_vector(text) for text in tqdm(texts)])\n",
    "y = np.array(labels)"
   ]
  },
  {
   "cell_type": "code",
   "execution_count": 29,
   "metadata": {},
   "outputs": [],
   "source": [
    "class SimpleNN(nn.Module):\n",
    "    def __init__(self, input_dim):\n",
    "        super(SimpleNN, self).__init__()\n",
    "        self.fc1 = nn.Linear(input_dim, 64)\n",
    "        self.relu = nn.ReLU()\n",
    "        self.fc2 = nn.Linear(64, 1)\n",
    "        self.sigmoid = nn.Sigmoid()\n",
    "    \n",
    "    def forward(self, x):\n",
    "        x = self.fc1(x)\n",
    "        x = self.relu(x)\n",
    "        x = self.fc2(x)\n",
    "        return self.sigmoid(x)\n"
   ]
  },
  {
   "cell_type": "code",
   "execution_count": 30,
   "metadata": {},
   "outputs": [],
   "source": [
    "X_train, X_test, y_train, y_test = train_test_split(X, y, test_size=0.2, random_state=23)\n",
    "epochs = 20\n",
    "batch_size = 32\n",
    "learning_rate = 0.0001\n",
    "device = \"cpu\""
   ]
  },
  {
   "cell_type": "code",
   "execution_count": 31,
   "metadata": {},
   "outputs": [
    {
     "name": "stdout",
     "output_type": "stream",
     "text": [
      "Epoch 1/20, Loss: 790.2599\n",
      "Epoch 2/20, Loss: 502.3510\n",
      "Epoch 3/20, Loss: 472.4102\n",
      "Epoch 4/20, Loss: 456.6169\n",
      "Epoch 5/20, Loss: 443.7824\n",
      "Epoch 6/20, Loss: 432.2923\n",
      "Epoch 7/20, Loss: 421.3313\n",
      "Epoch 8/20, Loss: 410.6806\n",
      "Epoch 9/20, Loss: 400.7026\n",
      "Epoch 10/20, Loss: 390.4054\n",
      "Epoch 11/20, Loss: 381.5728\n",
      "Epoch 12/20, Loss: 372.8536\n",
      "Epoch 13/20, Loss: 364.8642\n",
      "Epoch 14/20, Loss: 358.6896\n",
      "Epoch 15/20, Loss: 352.4240\n",
      "Epoch 16/20, Loss: 346.4127\n",
      "Epoch 17/20, Loss: 340.4470\n",
      "Epoch 18/20, Loss: 336.3832\n",
      "Epoch 19/20, Loss: 331.3942\n",
      "Epoch 20/20, Loss: 326.8809\n"
     ]
    }
   ],
   "source": [
    "model = SimpleNN(EMBEDDING_DIM).to(\"cpu\")\n",
    "criterion = nn.BCELoss()\n",
    "optimizer = optim.Adam(model.parameters(), lr=learning_rate)\n",
    "\n",
    "X_train_tensor = torch.tensor(X_train, dtype=torch.float32).to(device)\n",
    "y_train_tensor = torch.tensor(y_train, dtype=torch.float32).unsqueeze(1).to(device)\n",
    "\n",
    "for epoch in range(epochs):\n",
    "    model.train()\n",
    "    permutation = torch.randperm(X_train_tensor.size()[0])\n",
    "    epoch_loss = 0\n",
    "    for i in range(0, X_train_tensor.size()[0], batch_size):\n",
    "        indices = permutation[i:i+batch_size]\n",
    "        batch_x, batch_y = X_train_tensor[indices], y_train_tensor[indices]\n",
    "\n",
    "        optimizer.zero_grad()\n",
    "        outputs = model(batch_x)\n",
    "        loss = criterion(outputs, batch_y)\n",
    "        loss.backward()\n",
    "        optimizer.step()\n",
    "\n",
    "        epoch_loss += loss.item()\n",
    "    print(f\"Epoch {epoch+1}/{epochs}, Loss: {epoch_loss:.4f}\")\n"
   ]
  },
  {
   "cell_type": "code",
   "execution_count": 32,
   "metadata": {},
   "outputs": [
    {
     "name": "stdout",
     "output_type": "stream",
     "text": [
      "Test Accuracy: 0.9446\n"
     ]
    }
   ],
   "source": [
    "model.eval()\n",
    "with torch.no_grad():\n",
    "    X_test_tensor = torch.tensor(X_test, dtype=torch.float32).to(device)\n",
    "    y_test_tensor = torch.tensor(y_test, dtype=torch.float32).unsqueeze(1).to(device)\n",
    "\n",
    "    outputs = model(X_test_tensor)\n",
    "    predicted = (outputs > 0.5).float()\n",
    "    acc = accuracy_score(y_test_tensor.cpu(), predicted.cpu())\n",
    "    print(f\"Test Accuracy: {acc:.4f}\")\n"
   ]
  }
 ],
 "metadata": {
  "kernelspec": {
   "display_name": "Python 3",
   "language": "python",
   "name": "python3"
  },
  "language_info": {
   "codemirror_mode": {
    "name": "ipython",
    "version": 3
   },
   "file_extension": ".py",
   "mimetype": "text/x-python",
   "name": "python",
   "nbconvert_exporter": "python",
   "pygments_lexer": "ipython3",
   "version": "3.12.2"
  }
 },
 "nbformat": 4,
 "nbformat_minor": 2
}
